{
 "cells": [
  {
   "cell_type": "markdown",
   "id": "de8c5b84",
   "metadata": {},
   "source": [
    "## Data Load"
   ]
  },
  {
   "cell_type": "code",
   "execution_count": 4,
   "id": "b2a1c298",
   "metadata": {},
   "outputs": [
    {
     "data": {
      "text/html": [
       "<div>\n",
       "<style scoped>\n",
       "    .dataframe tbody tr th:only-of-type {\n",
       "        vertical-align: middle;\n",
       "    }\n",
       "\n",
       "    .dataframe tbody tr th {\n",
       "        vertical-align: top;\n",
       "    }\n",
       "\n",
       "    .dataframe thead th {\n",
       "        text-align: right;\n",
       "    }\n",
       "</style>\n",
       "<table border=\"1\" class=\"dataframe\">\n",
       "  <thead>\n",
       "    <tr style=\"text-align: right;\">\n",
       "      <th></th>\n",
       "      <th>timestamp</th>\n",
       "      <th>source</th>\n",
       "      <th>log_message</th>\n",
       "      <th>target_label</th>\n",
       "      <th>complexity</th>\n",
       "    </tr>\n",
       "  </thead>\n",
       "  <tbody>\n",
       "    <tr>\n",
       "      <th>0</th>\n",
       "      <td>2025-06-27 07:20:25</td>\n",
       "      <td>ModernCRM</td>\n",
       "      <td>nova.osapi_compute.wsgi.server [req-b9718cd8-f...</td>\n",
       "      <td>HTTP Status</td>\n",
       "      <td>bert</td>\n",
       "    </tr>\n",
       "    <tr>\n",
       "      <th>1</th>\n",
       "      <td>1/14/2025 23:07</td>\n",
       "      <td>ModernCRM</td>\n",
       "      <td>Email service experiencing issues with sending</td>\n",
       "      <td>Critical Error</td>\n",
       "      <td>bert</td>\n",
       "    </tr>\n",
       "    <tr>\n",
       "      <th>2</th>\n",
       "      <td>1/17/2025 1:29</td>\n",
       "      <td>AnalyticsEngine</td>\n",
       "      <td>Unauthorized access to data was attempted</td>\n",
       "      <td>Security Alert</td>\n",
       "      <td>bert</td>\n",
       "    </tr>\n",
       "    <tr>\n",
       "      <th>3</th>\n",
       "      <td>2025-07-12 00:24:16</td>\n",
       "      <td>ModernHR</td>\n",
       "      <td>nova.osapi_compute.wsgi.server [req-4895c258-b...</td>\n",
       "      <td>HTTP Status</td>\n",
       "      <td>bert</td>\n",
       "    </tr>\n",
       "    <tr>\n",
       "      <th>4</th>\n",
       "      <td>2025-06-02 18:25:23</td>\n",
       "      <td>BillingSystem</td>\n",
       "      <td>nova.osapi_compute.wsgi.server [req-ee8bc8ba-9...</td>\n",
       "      <td>HTTP Status</td>\n",
       "      <td>bert</td>\n",
       "    </tr>\n",
       "  </tbody>\n",
       "</table>\n",
       "</div>"
      ],
      "text/plain": [
       "             timestamp           source  \\\n",
       "0  2025-06-27 07:20:25        ModernCRM   \n",
       "1      1/14/2025 23:07        ModernCRM   \n",
       "2       1/17/2025 1:29  AnalyticsEngine   \n",
       "3  2025-07-12 00:24:16         ModernHR   \n",
       "4  2025-06-02 18:25:23    BillingSystem   \n",
       "\n",
       "                                         log_message    target_label  \\\n",
       "0  nova.osapi_compute.wsgi.server [req-b9718cd8-f...     HTTP Status   \n",
       "1     Email service experiencing issues with sending  Critical Error   \n",
       "2          Unauthorized access to data was attempted  Security Alert   \n",
       "3  nova.osapi_compute.wsgi.server [req-4895c258-b...     HTTP Status   \n",
       "4  nova.osapi_compute.wsgi.server [req-ee8bc8ba-9...     HTTP Status   \n",
       "\n",
       "  complexity  \n",
       "0       bert  \n",
       "1       bert  \n",
       "2       bert  \n",
       "3       bert  \n",
       "4       bert  "
      ]
     },
     "execution_count": 4,
     "metadata": {},
     "output_type": "execute_result"
    }
   ],
   "source": [
    "import pandas as pd\n",
    "df=pd.read_csv(\"dataset/synthetic_logs.csv\")\n",
    "df.head()"
   ]
  },
  {
   "cell_type": "code",
   "execution_count": 5,
   "id": "1e46c9c4",
   "metadata": {},
   "outputs": [
    {
     "data": {
      "text/plain": [
       "array(['ModernCRM', 'AnalyticsEngine', 'ModernHR', 'BillingSystem',\n",
       "       'ThirdPartyAPI', 'LegacyCRM'], dtype=object)"
      ]
     },
     "execution_count": 5,
     "metadata": {},
     "output_type": "execute_result"
    }
   ],
   "source": [
    "df.source.unique()"
   ]
  },
  {
   "cell_type": "code",
   "execution_count": 6,
   "id": "484f2a29",
   "metadata": {},
   "outputs": [
    {
     "data": {
      "text/plain": [
       "array(['HTTP Status', 'Critical Error', 'Security Alert', 'Error',\n",
       "       'System Notification', 'Resource Usage', 'User Action',\n",
       "       'Workflow Error', 'Deprecation Warning'], dtype=object)"
      ]
     },
     "execution_count": 6,
     "metadata": {},
     "output_type": "execute_result"
    }
   ],
   "source": [
    "df.target_label.unique()"
   ]
  },
  {
   "cell_type": "code",
   "execution_count": 8,
   "id": "0ec009b8",
   "metadata": {},
   "outputs": [
    {
     "data": {
      "text/html": [
       "<div>\n",
       "<style scoped>\n",
       "    .dataframe tbody tr th:only-of-type {\n",
       "        vertical-align: middle;\n",
       "    }\n",
       "\n",
       "    .dataframe tbody tr th {\n",
       "        vertical-align: top;\n",
       "    }\n",
       "\n",
       "    .dataframe thead th {\n",
       "        text-align: right;\n",
       "    }\n",
       "</style>\n",
       "<table border=\"1\" class=\"dataframe\">\n",
       "  <thead>\n",
       "    <tr style=\"text-align: right;\">\n",
       "      <th></th>\n",
       "      <th>timestamp</th>\n",
       "      <th>source</th>\n",
       "      <th>log_message</th>\n",
       "      <th>target_label</th>\n",
       "      <th>complexity</th>\n",
       "    </tr>\n",
       "  </thead>\n",
       "  <tbody>\n",
       "    <tr>\n",
       "      <th>2139</th>\n",
       "      <td>5/16/2025 19:47</td>\n",
       "      <td>ModernCRM</td>\n",
       "      <td>Backup started at 2025-04-22 09:11:13.</td>\n",
       "      <td>System Notification</td>\n",
       "      <td>regex</td>\n",
       "    </tr>\n",
       "    <tr>\n",
       "      <th>1112</th>\n",
       "      <td>12/9/2025 0:53</td>\n",
       "      <td>ThirdPartyAPI</td>\n",
       "      <td>Backup completed successfully.</td>\n",
       "      <td>System Notification</td>\n",
       "      <td>regex</td>\n",
       "    </tr>\n",
       "    <tr>\n",
       "      <th>889</th>\n",
       "      <td>11/30/2025 13:45</td>\n",
       "      <td>ModernHR</td>\n",
       "      <td>System reboot initiated by user User766.</td>\n",
       "      <td>System Notification</td>\n",
       "      <td>regex</td>\n",
       "    </tr>\n",
       "    <tr>\n",
       "      <th>1241</th>\n",
       "      <td>10/22/2025 16:44</td>\n",
       "      <td>ModernHR</td>\n",
       "      <td>Backup completed successfully.</td>\n",
       "      <td>System Notification</td>\n",
       "      <td>regex</td>\n",
       "    </tr>\n",
       "    <tr>\n",
       "      <th>2183</th>\n",
       "      <td>3/13/2025 7:23</td>\n",
       "      <td>ThirdPartyAPI</td>\n",
       "      <td>File data_7589.csv uploaded successfully by us...</td>\n",
       "      <td>System Notification</td>\n",
       "      <td>regex</td>\n",
       "    </tr>\n",
       "    <tr>\n",
       "      <th>2368</th>\n",
       "      <td>12/13/2025 20:04</td>\n",
       "      <td>ThirdPartyAPI</td>\n",
       "      <td>Disk cleanup completed successfully.</td>\n",
       "      <td>System Notification</td>\n",
       "      <td>regex</td>\n",
       "    </tr>\n",
       "    <tr>\n",
       "      <th>1983</th>\n",
       "      <td>11/15/2025 16:09</td>\n",
       "      <td>BillingSystem</td>\n",
       "      <td>Backup ended at 2025-06-08 23:24:35.</td>\n",
       "      <td>System Notification</td>\n",
       "      <td>regex</td>\n",
       "    </tr>\n",
       "    <tr>\n",
       "      <th>1097</th>\n",
       "      <td>8/15/2025 6:22</td>\n",
       "      <td>ModernHR</td>\n",
       "      <td>System updated to version 5.9.3.</td>\n",
       "      <td>System Notification</td>\n",
       "      <td>regex</td>\n",
       "    </tr>\n",
       "    <tr>\n",
       "      <th>1586</th>\n",
       "      <td>5/2/2025 8:32</td>\n",
       "      <td>ThirdPartyAPI</td>\n",
       "      <td>Disk cleanup completed successfully.</td>\n",
       "      <td>System Notification</td>\n",
       "      <td>regex</td>\n",
       "    </tr>\n",
       "    <tr>\n",
       "      <th>2246</th>\n",
       "      <td>3/2/2025 22:56</td>\n",
       "      <td>ModernHR</td>\n",
       "      <td>System reboot initiated by user User488.</td>\n",
       "      <td>System Notification</td>\n",
       "      <td>regex</td>\n",
       "    </tr>\n",
       "  </tbody>\n",
       "</table>\n",
       "</div>"
      ],
      "text/plain": [
       "             timestamp         source  \\\n",
       "2139   5/16/2025 19:47      ModernCRM   \n",
       "1112    12/9/2025 0:53  ThirdPartyAPI   \n",
       "889   11/30/2025 13:45       ModernHR   \n",
       "1241  10/22/2025 16:44       ModernHR   \n",
       "2183    3/13/2025 7:23  ThirdPartyAPI   \n",
       "2368  12/13/2025 20:04  ThirdPartyAPI   \n",
       "1983  11/15/2025 16:09  BillingSystem   \n",
       "1097    8/15/2025 6:22       ModernHR   \n",
       "1586     5/2/2025 8:32  ThirdPartyAPI   \n",
       "2246    3/2/2025 22:56       ModernHR   \n",
       "\n",
       "                                            log_message         target_label  \\\n",
       "2139             Backup started at 2025-04-22 09:11:13.  System Notification   \n",
       "1112                     Backup completed successfully.  System Notification   \n",
       "889            System reboot initiated by user User766.  System Notification   \n",
       "1241                     Backup completed successfully.  System Notification   \n",
       "2183  File data_7589.csv uploaded successfully by us...  System Notification   \n",
       "2368               Disk cleanup completed successfully.  System Notification   \n",
       "1983               Backup ended at 2025-06-08 23:24:35.  System Notification   \n",
       "1097                   System updated to version 5.9.3.  System Notification   \n",
       "1586               Disk cleanup completed successfully.  System Notification   \n",
       "2246           System reboot initiated by user User488.  System Notification   \n",
       "\n",
       "     complexity  \n",
       "2139      regex  \n",
       "1112      regex  \n",
       "889       regex  \n",
       "1241      regex  \n",
       "2183      regex  \n",
       "2368      regex  \n",
       "1983      regex  \n",
       "1097      regex  \n",
       "1586      regex  \n",
       "2246      regex  "
      ]
     },
     "execution_count": 8,
     "metadata": {},
     "output_type": "execute_result"
    }
   ],
   "source": [
    "df[df.target_label=='System Notification'].sample(10)"
   ]
  },
  {
   "cell_type": "markdown",
   "id": "df9bbd7f",
   "metadata": {},
   "source": [
    "## Clustering"
   ]
  },
  {
   "cell_type": "code",
   "execution_count": 11,
   "id": "3570a5c8",
   "metadata": {},
   "outputs": [],
   "source": [
    "from sklearn.cluster import DBSCAN\n",
    "from sentence_transformers import SentenceTransformer"
   ]
  },
  {
   "cell_type": "code",
   "execution_count": 13,
   "id": "889cab08",
   "metadata": {},
   "outputs": [],
   "source": [
    "model=SentenceTransformer('all-MiniLM-L6-v2')  #Lightweight embedding model\n",
    "embeddings=model.encode(df['log_message'].tolist())"
   ]
  },
  {
   "cell_type": "code",
   "execution_count": 14,
   "id": "921074a7",
   "metadata": {},
   "outputs": [
    {
     "data": {
      "text/plain": [
       "array([[-0.10293962,  0.03354594, -0.02202607, ...,  0.00457793,\n",
       "        -0.04259717,  0.00322621],\n",
       "       [ 0.00804572, -0.03573923,  0.04938739, ...,  0.01538319,\n",
       "        -0.06230947, -0.02774666],\n",
       "       [-0.00908224,  0.13003924, -0.05275568, ...,  0.02014104,\n",
       "        -0.05117098, -0.02930294],\n",
       "       [-0.09751046,  0.04911299, -0.03977424, ...,  0.02477502,\n",
       "        -0.03546079, -0.00018598],\n",
       "       [-0.10468338,  0.05926038, -0.02488499, ...,  0.02502055,\n",
       "        -0.037193  , -0.0256891 ]], shape=(5, 384), dtype=float32)"
      ]
     },
     "execution_count": 14,
     "metadata": {},
     "output_type": "execute_result"
    }
   ],
   "source": [
    "embeddings[:5]"
   ]
  },
  {
   "cell_type": "code",
   "execution_count": 26,
   "id": "8e3af257",
   "metadata": {},
   "outputs": [],
   "source": [
    "clustering=DBSCAN(eps=0.2, min_samples=1, metric='cosine').fit(embeddings) \n",
    "df['cluster'] = clustering.labels_"
   ]
  },
  {
   "cell_type": "code",
   "execution_count": 28,
   "id": "998be7d4",
   "metadata": {},
   "outputs": [
    {
     "data": {
      "text/html": [
       "<div>\n",
       "<style scoped>\n",
       "    .dataframe tbody tr th:only-of-type {\n",
       "        vertical-align: middle;\n",
       "    }\n",
       "\n",
       "    .dataframe tbody tr th {\n",
       "        vertical-align: top;\n",
       "    }\n",
       "\n",
       "    .dataframe thead th {\n",
       "        text-align: right;\n",
       "    }\n",
       "</style>\n",
       "<table border=\"1\" class=\"dataframe\">\n",
       "  <thead>\n",
       "    <tr style=\"text-align: right;\">\n",
       "      <th></th>\n",
       "      <th>timestamp</th>\n",
       "      <th>source</th>\n",
       "      <th>log_message</th>\n",
       "      <th>target_label</th>\n",
       "      <th>complexity</th>\n",
       "      <th>cluster</th>\n",
       "    </tr>\n",
       "  </thead>\n",
       "  <tbody>\n",
       "    <tr>\n",
       "      <th>0</th>\n",
       "      <td>2025-06-27 07:20:25</td>\n",
       "      <td>ModernCRM</td>\n",
       "      <td>nova.osapi_compute.wsgi.server [req-b9718cd8-f...</td>\n",
       "      <td>HTTP Status</td>\n",
       "      <td>bert</td>\n",
       "      <td>0</td>\n",
       "    </tr>\n",
       "    <tr>\n",
       "      <th>1</th>\n",
       "      <td>1/14/2025 23:07</td>\n",
       "      <td>ModernCRM</td>\n",
       "      <td>Email service experiencing issues with sending</td>\n",
       "      <td>Critical Error</td>\n",
       "      <td>bert</td>\n",
       "      <td>1</td>\n",
       "    </tr>\n",
       "    <tr>\n",
       "      <th>2</th>\n",
       "      <td>1/17/2025 1:29</td>\n",
       "      <td>AnalyticsEngine</td>\n",
       "      <td>Unauthorized access to data was attempted</td>\n",
       "      <td>Security Alert</td>\n",
       "      <td>bert</td>\n",
       "      <td>2</td>\n",
       "    </tr>\n",
       "    <tr>\n",
       "      <th>3</th>\n",
       "      <td>2025-07-12 00:24:16</td>\n",
       "      <td>ModernHR</td>\n",
       "      <td>nova.osapi_compute.wsgi.server [req-4895c258-b...</td>\n",
       "      <td>HTTP Status</td>\n",
       "      <td>bert</td>\n",
       "      <td>0</td>\n",
       "    </tr>\n",
       "    <tr>\n",
       "      <th>4</th>\n",
       "      <td>2025-06-02 18:25:23</td>\n",
       "      <td>BillingSystem</td>\n",
       "      <td>nova.osapi_compute.wsgi.server [req-ee8bc8ba-9...</td>\n",
       "      <td>HTTP Status</td>\n",
       "      <td>bert</td>\n",
       "      <td>0</td>\n",
       "    </tr>\n",
       "  </tbody>\n",
       "</table>\n",
       "</div>"
      ],
      "text/plain": [
       "             timestamp           source  \\\n",
       "0  2025-06-27 07:20:25        ModernCRM   \n",
       "1      1/14/2025 23:07        ModernCRM   \n",
       "2       1/17/2025 1:29  AnalyticsEngine   \n",
       "3  2025-07-12 00:24:16         ModernHR   \n",
       "4  2025-06-02 18:25:23    BillingSystem   \n",
       "\n",
       "                                         log_message    target_label  \\\n",
       "0  nova.osapi_compute.wsgi.server [req-b9718cd8-f...     HTTP Status   \n",
       "1     Email service experiencing issues with sending  Critical Error   \n",
       "2          Unauthorized access to data was attempted  Security Alert   \n",
       "3  nova.osapi_compute.wsgi.server [req-4895c258-b...     HTTP Status   \n",
       "4  nova.osapi_compute.wsgi.server [req-ee8bc8ba-9...     HTTP Status   \n",
       "\n",
       "  complexity  cluster  \n",
       "0       bert        0  \n",
       "1       bert        1  \n",
       "2       bert        2  \n",
       "3       bert        0  \n",
       "4       bert        0  "
      ]
     },
     "execution_count": 28,
     "metadata": {},
     "output_type": "execute_result"
    }
   ],
   "source": [
    "df.head()"
   ]
  },
  {
   "cell_type": "code",
   "execution_count": 29,
   "id": "7f27ee63",
   "metadata": {},
   "outputs": [
    {
     "data": {
      "text/html": [
       "<div>\n",
       "<style scoped>\n",
       "    .dataframe tbody tr th:only-of-type {\n",
       "        vertical-align: middle;\n",
       "    }\n",
       "\n",
       "    .dataframe tbody tr th {\n",
       "        vertical-align: top;\n",
       "    }\n",
       "\n",
       "    .dataframe thead th {\n",
       "        text-align: right;\n",
       "    }\n",
       "</style>\n",
       "<table border=\"1\" class=\"dataframe\">\n",
       "  <thead>\n",
       "    <tr style=\"text-align: right;\">\n",
       "      <th></th>\n",
       "      <th>timestamp</th>\n",
       "      <th>source</th>\n",
       "      <th>log_message</th>\n",
       "      <th>target_label</th>\n",
       "      <th>complexity</th>\n",
       "      <th>cluster</th>\n",
       "    </tr>\n",
       "  </thead>\n",
       "  <tbody>\n",
       "    <tr>\n",
       "      <th>1</th>\n",
       "      <td>1/14/2025 23:07</td>\n",
       "      <td>ModernCRM</td>\n",
       "      <td>Email service experiencing issues with sending</td>\n",
       "      <td>Critical Error</td>\n",
       "      <td>bert</td>\n",
       "      <td>1</td>\n",
       "    </tr>\n",
       "    <tr>\n",
       "      <th>10</th>\n",
       "      <td>8/9/2025 18:58</td>\n",
       "      <td>ModernCRM</td>\n",
       "      <td>Email server encountered a sending fault</td>\n",
       "      <td>Error</td>\n",
       "      <td>bert</td>\n",
       "      <td>1</td>\n",
       "    </tr>\n",
       "    <tr>\n",
       "      <th>217</th>\n",
       "      <td>1/22/2025 5:45</td>\n",
       "      <td>BillingSystem</td>\n",
       "      <td>Mail service encountered a delivery glitch</td>\n",
       "      <td>Error</td>\n",
       "      <td>bert</td>\n",
       "      <td>1</td>\n",
       "    </tr>\n",
       "    <tr>\n",
       "      <th>248</th>\n",
       "      <td>5/2/2025 23:04</td>\n",
       "      <td>ModernHR</td>\n",
       "      <td>Service disruption caused by email sending error</td>\n",
       "      <td>Critical Error</td>\n",
       "      <td>bert</td>\n",
       "      <td>1</td>\n",
       "    </tr>\n",
       "    <tr>\n",
       "      <th>265</th>\n",
       "      <td>3/30/2025 23:53</td>\n",
       "      <td>ModernCRM</td>\n",
       "      <td>Email system had a problem sending emails</td>\n",
       "      <td>Error</td>\n",
       "      <td>bert</td>\n",
       "      <td>1</td>\n",
       "    </tr>\n",
       "  </tbody>\n",
       "</table>\n",
       "</div>"
      ],
      "text/plain": [
       "           timestamp         source  \\\n",
       "1    1/14/2025 23:07      ModernCRM   \n",
       "10    8/9/2025 18:58      ModernCRM   \n",
       "217   1/22/2025 5:45  BillingSystem   \n",
       "248   5/2/2025 23:04       ModernHR   \n",
       "265  3/30/2025 23:53      ModernCRM   \n",
       "\n",
       "                                          log_message    target_label  \\\n",
       "1      Email service experiencing issues with sending  Critical Error   \n",
       "10           Email server encountered a sending fault           Error   \n",
       "217        Mail service encountered a delivery glitch           Error   \n",
       "248  Service disruption caused by email sending error  Critical Error   \n",
       "265         Email system had a problem sending emails           Error   \n",
       "\n",
       "    complexity  cluster  \n",
       "1         bert        1  \n",
       "10        bert        1  \n",
       "217       bert        1  \n",
       "248       bert        1  \n",
       "265       bert        1  "
      ]
     },
     "execution_count": 29,
     "metadata": {},
     "output_type": "execute_result"
    }
   ],
   "source": [
    "df[df.cluster==1].head()"
   ]
  },
  {
   "cell_type": "code",
   "execution_count": 30,
   "id": "dd77d2a9",
   "metadata": {},
   "outputs": [],
   "source": [
    "#Group by clusters to inspect patterns\n",
    "clusters=df.groupby('cluster')['log_message'].apply(list)\n",
    "sorted_clusters=clusters.sort_values(key=lambda x: x.map(len), ascending=False)"
   ]
  },
  {
   "cell_type": "code",
   "execution_count": 31,
   "id": "0a0a1e6e",
   "metadata": {},
   "outputs": [
    {
     "name": "stdout",
     "output_type": "stream",
     "text": [
      "Clustered Patterns:\n",
      "CLuster 0:\n",
      " nova.osapi_compute.wsgi.server [req-b9718cd8-f65e-49cc-8349-6cf7122af137 113d3a99c3da401fbd62cc2caa5b96d2 54fadb412c4e40cdbaed9335e4c35a9e - - -] 10.11.10.1 \"GET /v2/54fadb412c4e40cdbaed9335e4c35a9e/servers/detail HTTP/1.1\" status: 200 len: 1893 time: 0.2675118\n",
      " nova.osapi_compute.wsgi.server [req-4895c258-b2f8-488f-a2a3-4fae63982e48 113d3a99c3da401fbd62cc2caa5b96d2 54fadb412c4e40cdbaed9335e4c35a9e - - -] 10.11.10.1 \"GET /v2/54fadb412c4e40cdbaed9335e4c35a9e/servers/detail HTTP/1.1\" HTTP status code -  200 len: 211 time: 0.0968180\n",
      " nova.osapi_compute.wsgi.server [req-ee8bc8ba-9265-4280-9215-dbe000a41209 113d3a99c3da401fbd62cc2caa5b96d2 54fadb412c4e40cdbaed9335e4c35a9e - - -] 10.11.10.1 \"GET /v2/54fadb412c4e40cdbaed9335e4c35a9e/servers/detail HTTP/1.1\" RCODE  200 len: 1874 time: 0.2280791\n",
      " nova.osapi_compute.wsgi.server [req-f0bffbc3-5ab0-4916-91c1-0a61dd7d4ec2 113d3a99c3da401fbd62cc2caa5b96d2 54fadb412c4e40cdbaed9335e4c35a9e - - -] 10.11.10.1 \"GET /v2/54fadb412c4e40cdbaed9335e4c35a9e/servers/detail HTTP/1.1\" Return code: 200 len: 1874 time: 0.2131531\n",
      " nova.osapi_compute.wsgi.server [req-2bf7cfee-a236-42f3-8fb1-96fefab0b302 113d3a99c3da401fbd62cc2caa5b96d2 54fadb412c4e40cdbaed9335e4c35a9e - - -] 10.11.10.1 \"GET /v2/54fadb412c4e40cdbaed9335e4c35a9e/servers/detail HTTP/1.1\" RCODE  200 len: 1874 time: 0.1794369\n",
      "CLuster 5:\n",
      " nova.compute.claims [req-a07ac654-8e81-416d-bfbb-189116b07969 113d3a99c3da401fbd62cc2caa5b96d2 54fadb412c4e40cdbaed9335e4c35a9e - - -] [instance: bf8c824d-f099-4433-a41e-e3da7578262e] Total memory: 64172 MB, used: 512.00 MB\n",
      " nova.compute.claims [req-d6986b54-3735-4a42-9074-0ba7d9717de9 113d3a99c3da401fbd62cc2caa5b96d2 54fadb412c4e40cdbaed9335e4c35a9e - - -] [instance: af5f7392-f7d4-4298-b647-c98924c64aa1] memory limit: 96258.00 MB, free: 95746.00 MB\n",
      " nova.compute.claims [req-72b4858f-049e-49e1-b31e-b562c5018eaf 113d3a99c3da401fbd62cc2caa5b96d2 54fadb412c4e40cdbaed9335e4c35a9e - - -] [instance: 63a0d960-70b6-44c6-b606-491478a5cadf] disk limit not specified, defaulting to unlimited\n",
      " nova.compute.claims [req-5c8f52bd-8e3c-41f0-95a5-7861d247cafa 113d3a99c3da401fbd62cc2caa5b96d2 54fadb412c4e40cdbaed9335e4c35a9e - - -] [instance: d96a117b-0193-4549-bdcc-63b917273d1d] vcpu limit not specified, defaulting to unlimited\n",
      " nova.compute.claims [req-d38f479d-9bb9-4276-9688-52607e8fd350 113d3a99c3da401fbd62cc2caa5b96d2 54fadb412c4e40cdbaed9335e4c35a9e - - -] [instance: 95960536-049b-41f6-9049-05fc479b6a7c] disk limit not specified, defaulting to unlimited\n",
      "CLuster 11:\n",
      " User User685 logged out.\n",
      " User User395 logged in.\n",
      " User User225 logged in.\n",
      " User User494 logged out.\n",
      " User User900 logged in.\n",
      "CLuster 13:\n",
      " Backup started at 2025-05-14 07:06:55.\n",
      " Backup started at 2025-02-15 20:00:19.\n",
      " Backup ended at 2025-08-08 13:06:23.\n",
      " Backup started at 2025-11-14 08:27:43.\n",
      " Backup started at 2025-12-09 10:19:11.\n",
      "CLuster 7:\n",
      " Multiple bad login attempts detected on user 8538 account\n",
      " Multiple login failures occurred on user 9052 account\n",
      " User 7153 made multiple incorrect login attempts\n",
      " User 8300 made multiple incorrect login attempts\n",
      " Multiple login failures were detected for user 6373\n",
      "CLuster 8:\n",
      " Backup completed successfully.\n",
      " Backup completed successfully.\n",
      " Backup completed successfully.\n",
      " Backup completed successfully.\n",
      " Backup completed successfully.\n",
      "CLuster 21:\n",
      " System updated to version 3.9.1.\n",
      " System updated to version 5.5.4.\n",
      " System updated to version 4.7.4.\n",
      " System updated to version 3.7.7.\n",
      " System updated to version 2.6.2.\n",
      "CLuster 3:\n",
      " Shard 6 replication task ended in failure\n",
      " Data replication task for shard 14 did not complete\n",
      " Data replication task failed for shard 17\n",
      " Replication of data to shard 14 failed\n",
      " Data replication task for shard 6 did not complete\n",
      "CLuster 4:\n",
      " File data_6169.csv uploaded successfully by user User953.\n",
      " File data_3847.csv uploaded successfully by user User175.\n",
      " File data_7366.csv uploaded successfully by user User282.\n",
      " File data_1206.csv uploaded successfully by user User359.\n",
      " File data_1503.csv uploaded successfully by user User151.\n",
      "CLuster 17:\n",
      " Denied access attempt on restricted account Account2682\n",
      " Unauthorized login attempt on protected account Account5030\n",
      " Account Account9437 blocked due to failed login\n",
      " Account Account7999 access denied due to login failure\n",
      " Invalid login attempt made on secured account Account7864\n",
      "CLuster 6:\n",
      " Critical system unit error: unit ID Component55\n",
      " System component malfunction: component ID Component79\n",
      " Critical system element is down: element ID Component96\n",
      " Essential system part malfunction: part ID Component6\n",
      " Failure occurred in critical system component: component ID Component92\n",
      "CLuster 32:\n",
      " Disk cleanup completed successfully.\n",
      " Disk cleanup completed successfully.\n",
      " Disk cleanup completed successfully.\n",
      " Disk cleanup completed successfully.\n",
      " Disk cleanup completed successfully.\n",
      "CLuster 16:\n",
      " System reboot initiated by user User243.\n",
      " System reboot initiated by user User471.\n",
      " System reboot initiated by user User216.\n",
      " System reboot initiated by user User639.\n",
      " System reboot initiated by user User819.\n",
      "CLuster 20:\n",
      " User 7662 tried to bypass API security measures\n",
      " User 2367 failed to provide valid API access credentials\n",
      " User 3569 made an unauthorized API request\n",
      " Unauthorized user 2968 tried to access restricted API\n",
      " User 2186 attempted to access API without proper authorization\n",
      "CLuster 9:\n",
      " Account with ID 5351 created by User634.\n",
      " Account with ID 7813 created by User373.\n",
      " Account with ID 9827 created by User965.\n",
      " Account with ID 2520 created by User546.\n",
      " Account with ID 2300 created by User964.\n",
      "CLuster 1:\n",
      " Email service experiencing issues with sending\n",
      " Email server encountered a sending fault\n",
      " Mail service encountered a delivery glitch\n",
      " Service disruption caused by email sending error\n",
      " Email system had a problem sending emails\n",
      "CLuster 10:\n",
      " nova.compute.resource_tracker [req-addc1839-2ed5-4778-b57e-5854eb7b8b09 - - - - -] Final resource view: name=cp-1.slowvm1.tcloud-pg0.utah.cloudlab.us phys_ram=64172MB used_ram=512MB phys_disk=15GB used_disk=0GB total_vcpus=16 used_vcpus=0 pci_stats=[]\n",
      " nova.compute.resource_tracker [req-addc1839-2ed5-4778-b57e-5854eb7b8b09 - - - - -] Final resource view: name=cp-1.slowvm1.tcloud-pg0.utah.cloudlab.us phys_ram=64172MB used_ram=2560MB phys_disk=15GB used_disk=20GB total_vcpus=16 used_vcpus=1 pci_stats=[]\n",
      " nova.compute.resource_tracker [req-addc1839-2ed5-4778-b57e-5854eb7b8b09 - - - - -] Total usable vcpus: 16, total allocated vcpus: 0\n",
      " nova.compute.resource_tracker [req-addc1839-2ed5-4778-b57e-5854eb7b8b09 - - - - -] Final resource view: name=cp-1.slowvm1.tcloud-pg0.utah.cloudlab.us phys_ram=64172MB used_ram=2560MB phys_disk=15GB used_disk=20GB total_vcpus=16 used_vcpus=1 pci_stats=[]\n",
      " nova.compute.resource_tracker [req-addc1839-2ed5-4778-b57e-5854eb7b8b09 - - - - -] Final resource view: name=cp-1.slowvm1.tcloud-pg0.utah.cloudlab.us phys_ram=64172MB used_ram=2560MB phys_disk=15GB used_disk=20GB total_vcpus=16 used_vcpus=1 pci_stats=[]\n",
      "CLuster 34:\n",
      " Abnormal behavior found on server 10, possible security threat\n",
      " Security alert: suspicious activity on server 1\n",
      " Anomalous activity identified on server 23, security review recommended\n",
      " Server 27 experienced potential security incident, review required\n",
      " Server 36 experienced potential security incident, review required\n",
      "CLuster 53:\n",
      " Module X experienced an invalid data format issue\n",
      " Input format mismatch occurred in module X\n",
      " Module X reported an error in input format validation\n",
      " Module X failed to process input due to formatting error\n",
      " Input data format in module X was invalid or corrupted\n",
      "CLuster 14:\n",
      " Detection of multiple disk faults in RAID setup\n",
      " RAID array suffered multiple hard drive failures\n",
      " RAID array experienced multiple disk crashes\n",
      " Multiple hard drive issues in RAID configuration found\n",
      " Identification of multiple faulty disks in RAID array\n",
      "CLuster 52:\n",
      " Service health check was not successful because of SSL certificate validation failures.\n",
      " Invalid SSL certificate resulted in a failed service health check.\n",
      " Service health check failure was due to an invalid or improperly configured SSL certificate.\n",
      " An issue with the SSL certificate caused the service health check to fail.\n",
      " Service health check failure was caused by an expired SSL certificate.\n",
      "CLuster 18:\n",
      " Boot process terminated unexpectedly due to kernel issue\n",
      " System encountered kernel panic during initialization phase\n",
      " Boot process was stopped by kernel malfunction\n",
      " System encountered kernel failure during bootup sequence\n",
      " Boot sequence failed due to kernel panic\n",
      "CLuster 42:\n",
      " User 5127 has escalated admin privileges without authorization\n",
      " User 9745 has escalated to admin level\n",
      " User 8483 escalated privileges to admin level\n",
      " User 1987 has escalated to admin level\n",
      " User 8395 escalated privileges to admin level\n",
      "CLuster 25:\n",
      " System configuration is no longer valid\n",
      " Configuration is corrupted throughout the system\n",
      " Cross-system configuration failure occurred\n",
      " System configuration is experiencing errors\n",
      " Configuration malfunction is system-wide\n",
      "CLuster 59:\n",
      " Potential security threat: Admin privilege escalation for user 5130\n",
      " Admin privilege escalation alert for user 2893\n",
      " Admin privilege escalation alert for user 8532\n",
      " Potential security threat: Admin privilege escalation for user 1554\n",
      " Warning: Potential admin privilege escalation for user 5720\n",
      "CLuster 26:\n",
      " Privilege elevation detected for user 5038\n",
      " Elevation of admin privileges detected for user 6137\n",
      " Elevation of admin privileges detected for user 4907\n",
      " User 6069 has been granted elevated admin privileges\n",
      " Admin privilege elevation warning for user 7574\n"
     ]
    }
   ],
   "source": [
    "print(\"Clustered Patterns:\")\n",
    "for cluster_id,messages in sorted_clusters.items():\n",
    "    if(len(messages)>10):\n",
    "        print(f\"CLuster {cluster_id}:\")\n",
    "        for msg in messages[:5]:\n",
    "            print(f\" {msg}\")"
   ]
  },
  {
   "cell_type": "markdown",
   "id": "26b9aa7c",
   "metadata": {},
   "source": [
    "## Classification Stage 1: Regex"
   ]
  },
  {
   "cell_type": "code",
   "execution_count": 32,
   "id": "a28d09be",
   "metadata": {},
   "outputs": [],
   "source": [
    "import re\n",
    "def classify_with_regex(log_message):\n",
    "    regex_patterns={\n",
    "        r\"User User\\d+ logged (in|out).\": \"User Action\",\n",
    "        r\"Backup (started|ended) at .*\": \"System Notification\",\n",
    "        r\"Backup completed successfully.\": \"System Notification\",\n",
    "        r\"System updated to version .*\": \"System Notification\",\n",
    "        r\"File .* uploaded successfully by user .*\": \"System Notification\",\n",
    "        r\"Disk cleanup completed successfully.\": \"System Notification\",\n",
    "        r\"System reboot initiated by user .*\": \"System Notification\",\n",
    "        r\"Account with ID .* created by .*\": \"User Action\"\n",
    "    }\n",
    "    for pattern, label in regex_patterns.items():\n",
    "        if re.match(pattern, log_message):\n",
    "            return label\n",
    "    return None"
   ]
  },
  {
   "cell_type": "code",
   "execution_count": 33,
   "id": "db145424",
   "metadata": {},
   "outputs": [
    {
     "data": {
      "text/plain": [
       "'User Action'"
      ]
     },
     "execution_count": 33,
     "metadata": {},
     "output_type": "execute_result"
    }
   ],
   "source": [
    "classify_with_regex(\"User User123 logged in.\")"
   ]
  },
  {
   "cell_type": "code",
   "execution_count": 34,
   "id": "d351cb9c",
   "metadata": {},
   "outputs": [
    {
     "data": {
      "text/plain": [
       "'System Notification'"
      ]
     },
     "execution_count": 34,
     "metadata": {},
     "output_type": "execute_result"
    }
   ],
   "source": [
    "classify_with_regex(\"System reboot initiated by user User456.\")"
   ]
  },
  {
   "cell_type": "code",
   "execution_count": 35,
   "id": "7bb5943e",
   "metadata": {},
   "outputs": [],
   "source": [
    "classify_with_regex(\"Hey you, chill bro\")"
   ]
  },
  {
   "cell_type": "code",
   "execution_count": 37,
   "id": "1d5245d7",
   "metadata": {},
   "outputs": [
    {
     "data": {
      "text/html": [
       "<div>\n",
       "<style scoped>\n",
       "    .dataframe tbody tr th:only-of-type {\n",
       "        vertical-align: middle;\n",
       "    }\n",
       "\n",
       "    .dataframe tbody tr th {\n",
       "        vertical-align: top;\n",
       "    }\n",
       "\n",
       "    .dataframe thead th {\n",
       "        text-align: right;\n",
       "    }\n",
       "</style>\n",
       "<table border=\"1\" class=\"dataframe\">\n",
       "  <thead>\n",
       "    <tr style=\"text-align: right;\">\n",
       "      <th></th>\n",
       "      <th>timestamp</th>\n",
       "      <th>source</th>\n",
       "      <th>log_message</th>\n",
       "      <th>target_label</th>\n",
       "      <th>complexity</th>\n",
       "      <th>cluster</th>\n",
       "      <th>regex_label</th>\n",
       "    </tr>\n",
       "  </thead>\n",
       "  <tbody>\n",
       "    <tr>\n",
       "      <th>0</th>\n",
       "      <td>2025-06-27 07:20:25</td>\n",
       "      <td>ModernCRM</td>\n",
       "      <td>nova.osapi_compute.wsgi.server [req-b9718cd8-f...</td>\n",
       "      <td>HTTP Status</td>\n",
       "      <td>bert</td>\n",
       "      <td>0</td>\n",
       "      <td>None</td>\n",
       "    </tr>\n",
       "    <tr>\n",
       "      <th>1</th>\n",
       "      <td>1/14/2025 23:07</td>\n",
       "      <td>ModernCRM</td>\n",
       "      <td>Email service experiencing issues with sending</td>\n",
       "      <td>Critical Error</td>\n",
       "      <td>bert</td>\n",
       "      <td>1</td>\n",
       "      <td>None</td>\n",
       "    </tr>\n",
       "    <tr>\n",
       "      <th>2</th>\n",
       "      <td>1/17/2025 1:29</td>\n",
       "      <td>AnalyticsEngine</td>\n",
       "      <td>Unauthorized access to data was attempted</td>\n",
       "      <td>Security Alert</td>\n",
       "      <td>bert</td>\n",
       "      <td>2</td>\n",
       "      <td>None</td>\n",
       "    </tr>\n",
       "    <tr>\n",
       "      <th>3</th>\n",
       "      <td>2025-07-12 00:24:16</td>\n",
       "      <td>ModernHR</td>\n",
       "      <td>nova.osapi_compute.wsgi.server [req-4895c258-b...</td>\n",
       "      <td>HTTP Status</td>\n",
       "      <td>bert</td>\n",
       "      <td>0</td>\n",
       "      <td>None</td>\n",
       "    </tr>\n",
       "    <tr>\n",
       "      <th>4</th>\n",
       "      <td>2025-06-02 18:25:23</td>\n",
       "      <td>BillingSystem</td>\n",
       "      <td>nova.osapi_compute.wsgi.server [req-ee8bc8ba-9...</td>\n",
       "      <td>HTTP Status</td>\n",
       "      <td>bert</td>\n",
       "      <td>0</td>\n",
       "      <td>None</td>\n",
       "    </tr>\n",
       "    <tr>\n",
       "      <th>...</th>\n",
       "      <td>...</td>\n",
       "      <td>...</td>\n",
       "      <td>...</td>\n",
       "      <td>...</td>\n",
       "      <td>...</td>\n",
       "      <td>...</td>\n",
       "      <td>...</td>\n",
       "    </tr>\n",
       "    <tr>\n",
       "      <th>2405</th>\n",
       "      <td>2025-08-13 07:29:25</td>\n",
       "      <td>ModernHR</td>\n",
       "      <td>nova.osapi_compute.wsgi.server [req-96c3ec98-2...</td>\n",
       "      <td>HTTP Status</td>\n",
       "      <td>bert</td>\n",
       "      <td>0</td>\n",
       "      <td>None</td>\n",
       "    </tr>\n",
       "    <tr>\n",
       "      <th>2406</th>\n",
       "      <td>1/11/2025 5:32</td>\n",
       "      <td>ModernHR</td>\n",
       "      <td>User 3844 account experienced multiple failed ...</td>\n",
       "      <td>Security Alert</td>\n",
       "      <td>bert</td>\n",
       "      <td>7</td>\n",
       "      <td>None</td>\n",
       "    </tr>\n",
       "    <tr>\n",
       "      <th>2407</th>\n",
       "      <td>2025-08-03 03:07:47</td>\n",
       "      <td>ThirdPartyAPI</td>\n",
       "      <td>nova.metadata.wsgi.server [req-b6d4a270-accb-4...</td>\n",
       "      <td>HTTP Status</td>\n",
       "      <td>bert</td>\n",
       "      <td>0</td>\n",
       "      <td>None</td>\n",
       "    </tr>\n",
       "    <tr>\n",
       "      <th>2408</th>\n",
       "      <td>11/11/2025 11:52</td>\n",
       "      <td>BillingSystem</td>\n",
       "      <td>Email service affected by failed transmission</td>\n",
       "      <td>Critical Error</td>\n",
       "      <td>bert</td>\n",
       "      <td>1</td>\n",
       "      <td>None</td>\n",
       "    </tr>\n",
       "    <tr>\n",
       "      <th>2409</th>\n",
       "      <td>12/25/2025 13:21</td>\n",
       "      <td>AnalyticsEngine</td>\n",
       "      <td>Repeated failed login attempts occurred for us...</td>\n",
       "      <td>Security Alert</td>\n",
       "      <td>bert</td>\n",
       "      <td>7</td>\n",
       "      <td>None</td>\n",
       "    </tr>\n",
       "  </tbody>\n",
       "</table>\n",
       "<p>1910 rows × 7 columns</p>\n",
       "</div>"
      ],
      "text/plain": [
       "                timestamp           source  \\\n",
       "0     2025-06-27 07:20:25        ModernCRM   \n",
       "1         1/14/2025 23:07        ModernCRM   \n",
       "2          1/17/2025 1:29  AnalyticsEngine   \n",
       "3     2025-07-12 00:24:16         ModernHR   \n",
       "4     2025-06-02 18:25:23    BillingSystem   \n",
       "...                   ...              ...   \n",
       "2405  2025-08-13 07:29:25         ModernHR   \n",
       "2406       1/11/2025 5:32         ModernHR   \n",
       "2407  2025-08-03 03:07:47    ThirdPartyAPI   \n",
       "2408     11/11/2025 11:52    BillingSystem   \n",
       "2409     12/25/2025 13:21  AnalyticsEngine   \n",
       "\n",
       "                                            log_message    target_label  \\\n",
       "0     nova.osapi_compute.wsgi.server [req-b9718cd8-f...     HTTP Status   \n",
       "1        Email service experiencing issues with sending  Critical Error   \n",
       "2             Unauthorized access to data was attempted  Security Alert   \n",
       "3     nova.osapi_compute.wsgi.server [req-4895c258-b...     HTTP Status   \n",
       "4     nova.osapi_compute.wsgi.server [req-ee8bc8ba-9...     HTTP Status   \n",
       "...                                                 ...             ...   \n",
       "2405  nova.osapi_compute.wsgi.server [req-96c3ec98-2...     HTTP Status   \n",
       "2406  User 3844 account experienced multiple failed ...  Security Alert   \n",
       "2407  nova.metadata.wsgi.server [req-b6d4a270-accb-4...     HTTP Status   \n",
       "2408      Email service affected by failed transmission  Critical Error   \n",
       "2409  Repeated failed login attempts occurred for us...  Security Alert   \n",
       "\n",
       "     complexity  cluster regex_label  \n",
       "0          bert        0        None  \n",
       "1          bert        1        None  \n",
       "2          bert        2        None  \n",
       "3          bert        0        None  \n",
       "4          bert        0        None  \n",
       "...         ...      ...         ...  \n",
       "2405       bert        0        None  \n",
       "2406       bert        7        None  \n",
       "2407       bert        0        None  \n",
       "2408       bert        1        None  \n",
       "2409       bert        7        None  \n",
       "\n",
       "[1910 rows x 7 columns]"
      ]
     },
     "execution_count": 37,
     "metadata": {},
     "output_type": "execute_result"
    }
   ],
   "source": [
    "#Apply regex classification to the dataset\n",
    "df['regex_label']=df['log_message'].apply(lambda x: classify_with_regex(x))\n",
    "df[df['regex_label'].isnull()]"
   ]
  },
  {
   "cell_type": "markdown",
   "id": "9b24c99d",
   "metadata": {},
   "source": [
    "## Classification Stage 2: Classification using embeddings"
   ]
  },
  {
   "cell_type": "code",
   "execution_count": 40,
   "id": "e5501ea9",
   "metadata": {},
   "outputs": [
    {
     "data": {
      "text/plain": [
       "(1910, 7)"
      ]
     },
     "execution_count": 40,
     "metadata": {},
     "output_type": "execute_result"
    }
   ],
   "source": [
    "df_non_regex=df[df['regex_label'].isnull()].copy()\n",
    "df_non_regex.shape"
   ]
  },
  {
   "cell_type": "code",
   "execution_count": 41,
   "id": "c74f2b27",
   "metadata": {},
   "outputs": [
    {
     "name": "stdout",
     "output_type": "stream",
     "text": [
      "['Workflow Error', 'Deprecation Warning']\n"
     ]
    }
   ],
   "source": [
    "print(df_non_regex['target_label'].value_counts()[df_non_regex['target_label'].value_counts()<=5].index.tolist()  )"
   ]
  },
  {
   "cell_type": "code",
   "execution_count": null,
   "id": "3b6c8755",
   "metadata": {},
   "outputs": [
    {
     "data": {
      "text/plain": [
       "array(['ModernCRM', 'AnalyticsEngine', 'ModernHR', 'BillingSystem',\n",
       "       'ThirdPartyAPI'], dtype=object)"
      ]
     },
     "execution_count": 43,
     "metadata": {},
     "output_type": "execute_result"
    }
   ],
   "source": [
    "#We use llm encoding for legacyCRM messages\n",
    "df_non_legacy=df_non_regex[df_non_regex.source!='LegacyCRM']\n",
    "df_non_legacy.source.unique()"
   ]
  },
  {
   "cell_type": "code",
   "execution_count": 44,
   "id": "e7e32f43",
   "metadata": {},
   "outputs": [
    {
     "data": {
      "text/plain": [
       "array([[-0.10293962,  0.03354594, -0.02202607, ...,  0.00457793,\n",
       "        -0.04259717,  0.00322621],\n",
       "       [ 0.00804572, -0.03573923,  0.04938739, ...,  0.01538319,\n",
       "        -0.06230947, -0.02774666],\n",
       "       [-0.00908224,  0.13003924, -0.05275568, ...,  0.02014104,\n",
       "        -0.05117098, -0.02930294],\n",
       "       [-0.09751046,  0.04911299, -0.03977424, ...,  0.02477502,\n",
       "        -0.03546079, -0.00018598],\n",
       "       [-0.10468338,  0.05926038, -0.02488499, ...,  0.02502055,\n",
       "        -0.037193  , -0.0256891 ]], shape=(5, 384), dtype=float32)"
      ]
     },
     "execution_count": 44,
     "metadata": {},
     "output_type": "execute_result"
    }
   ],
   "source": [
    "#Generate Embeddings for log messages\n",
    "filtered_embeddings=model.encode(df_non_legacy['log_message'].tolist())\n",
    "filtered_embeddings[:5]"
   ]
  },
  {
   "cell_type": "code",
   "execution_count": 45,
   "id": "bb3646e0",
   "metadata": {},
   "outputs": [
    {
     "data": {
      "text/plain": [
       "1903"
      ]
     },
     "execution_count": 45,
     "metadata": {},
     "output_type": "execute_result"
    }
   ],
   "source": [
    "len(filtered_embeddings)"
   ]
  },
  {
   "cell_type": "code",
   "execution_count": 46,
   "id": "38663306",
   "metadata": {},
   "outputs": [],
   "source": [
    "X=filtered_embeddings\n",
    "y=df_non_legacy['target_label'].values"
   ]
  },
  {
   "cell_type": "code",
   "execution_count": 47,
   "id": "e33615fe",
   "metadata": {},
   "outputs": [
    {
     "name": "stdout",
     "output_type": "stream",
     "text": [
      "                precision    recall  f1-score   support\n",
      "\n",
      "Critical Error       0.91      1.00      0.95        48\n",
      "         Error       0.98      0.89      0.93        47\n",
      "   HTTP Status       1.00      1.00      1.00       304\n",
      "Resource Usage       1.00      1.00      1.00        49\n",
      "Security Alert       1.00      0.99      1.00       123\n",
      "\n",
      "      accuracy                           0.99       571\n",
      "     macro avg       0.98      0.98      0.98       571\n",
      "  weighted avg       0.99      0.99      0.99       571\n",
      "\n"
     ]
    }
   ],
   "source": [
    "from sklearn.model_selection import train_test_split\n",
    "from sklearn.linear_model import LogisticRegression\n",
    "from sklearn.metrics import classification_report, accuracy_score\n",
    "X_train, X_test, y_train, y_test = train_test_split(X, y, test_size=0.3, random_state=42)\n",
    "clf=LogisticRegression(max_iter=1000)\n",
    "clf.fit(X_train, y_train)\n",
    "y_pred=clf.predict(X_test)\n",
    "report=classification_report(y_test, y_pred)\n",
    "print(report)"
   ]
  },
  {
   "cell_type": "code",
   "execution_count": null,
   "id": "d55a3709",
   "metadata": {},
   "outputs": [
    {
     "data": {
      "text/plain": [
       "['models/log_classifier.joblib']"
      ]
     },
     "execution_count": 50,
     "metadata": {},
     "output_type": "execute_result"
    }
   ],
   "source": [
    "import joblib\n",
    "# Save the model\n",
    "joblib.dump(clf,'../models/log_classifier.joblib')"
   ]
  }
 ],
 "metadata": {
  "kernelspec": {
   "display_name": "Python 3",
   "language": "python",
   "name": "python3"
  },
  "language_info": {
   "codemirror_mode": {
    "name": "ipython",
    "version": 3
   },
   "file_extension": ".py",
   "mimetype": "text/x-python",
   "name": "python",
   "nbconvert_exporter": "python",
   "pygments_lexer": "ipython3",
   "version": "3.12.4"
  }
 },
 "nbformat": 4,
 "nbformat_minor": 5
}
